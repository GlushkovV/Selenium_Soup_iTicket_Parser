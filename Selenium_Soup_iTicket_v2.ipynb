{
 "cells": [
  {
   "cell_type": "markdown",
   "metadata": {},
   "source": [
    "# Отработка ошибок свзязанных с запуском кода\n",
    "\n",
    "- Если после установки необходимых библиотек возникает ошибка то скорее всего не установлен вебдрайвер Chrome для вашей ОС. Как установить вебдрайвер можно ознакомиться по этой ссылке. [selenium-python](https://selenium-python.com/install-chromedriver-chrome?ysclid=ly2ufnhjip111135754)\n",
    "- Если после установки вебдрайвера код не отрабатывает либо возникает ошибка то требуется проверить не открыт ли в памяти браузер Chrome. Если да то требуется его выгрузить (закрыть). Это связано с тем что данный код отрабатывает в фоновом режиме но при этом использует вебдрайвер Chrome который божет конфликтовать с самим запущенным браузером Chrome.\n",
    "- Если ошибка попрежнему возникает то требуется проверить или переустановить используемые библиотеки."
   ]
  },
  {
   "cell_type": "code",
   "execution_count": 1,
   "metadata": {},
   "outputs": [],
   "source": [
    "#!pip3 install --upgrade pip\n",
    "#!pip3 install selenium\n",
    "#!pip3 install beautifulsoup4\n",
    "#!pip3 install pandas\n",
    "#!pip3 install regex\n",
    "#!pip3 install requests"
   ]
  },
  {
   "cell_type": "code",
   "execution_count": 2,
   "metadata": {},
   "outputs": [],
   "source": [
    "import re\n",
    "import time\n",
    "import requests\n",
    "import pandas as pd\n",
    "\n",
    "from datetime import datetime\n",
    "from bs4 import BeautifulSoup\n",
    "from selenium.webdriver import Chrome\n",
    "from selenium.webdriver.common.by import By\n",
    "from selenium.webdriver.chrome.options import Options\n",
    "from selenium.webdriver.support.ui import WebDriverWait\n",
    "from selenium.common.exceptions import TimeoutException\n",
    "from selenium.webdriver.support import expected_conditions as EC"
   ]
  },
  {
   "cell_type": "code",
   "execution_count": 3,
   "metadata": {},
   "outputs": [],
   "source": [
    "class ItikcetUzParser:\n",
    "\n",
    "    # инициализатор\n",
    "    def __init__(self, url = 'https://iticket.uz/ru/events'):\n",
    "        # инициализируем вебдрайвер\n",
    "        options = Options()\n",
    "        # гиперпараметр для запуска вебдрайвера селениум без графического интерфейса\n",
    "        options.add_argument('--headless')\n",
    "        self.driver = Chrome(options=options)\n",
    "        # адрес всех событий сайта\n",
    "        self.url = url\n",
    "        # параметр максимального времени загрузки страницы сек\n",
    "        self.upload_wait_time = 10\n",
    "        # параметр ожидания после прокликивания для загрузки данных для парсинга сек\n",
    "        self.sleep_time = 1\n",
    "\n",
    "    # функция для пркликивания элементов страницы и возврата блока парсинга страницы\n",
    "    def clicker(self):\n",
    "        self.driver.get(self.url)\n",
    "        # ожидание загрузки данных\n",
    "        wait = WebDriverWait(self.driver, self.upload_wait_time)\n",
    "        counter = 0\n",
    "        # ждем загрузки конкретных элементов страницы для дальнейшего прокликивания\n",
    "        wait.until(EC.visibility_of_element_located((By.XPATH, \"//div[@class='grid sm:grid-cols-2 lg:grid-cols-3 gap-5 sm:gap-10']//a[@class='event-list-item']\")))\n",
    "        # цикл прокликивания страницы так как после нажатия на кнопку данные прогружаются не полностью, 50 максимальное количество итераций как защита от бесконечного цикла\n",
    "        while counter < 50:\n",
    "            try:\n",
    "                # ожидание, пока элемент станет кликабельным\n",
    "                span_button = wait.until(EC.element_to_be_clickable((By.XPATH, \"//span[contains(@class, 'content-around mx-auto btn cursor-pointer')]\")))\n",
    "                # нажатие на искомый элеент\n",
    "                span_button.click()\n",
    "                # Небольшая задержка, чтобы избежать слишком частых кликов\n",
    "                time.sleep(self.sleep_time)\n",
    "                counter += 1\n",
    "            except:\n",
    "                # если элемент больше не кликабелен, выходим из цикла\n",
    "                break\n",
    "        # ждем загрузки конкретных элементов страницы после прокликивания\n",
    "        wait.until(EC.visibility_of_element_located((By.XPATH, \"//div[@class='grid sm:grid-cols-2 lg:grid-cols-3 gap-5 sm:gap-10']//a[@class='event-list-item']\")))\n",
    "        # передаем содержимое вебдрайвера после взаимодействия со страницей из селениума в бьютифул суп для парсинга страницы\n",
    "        soup = BeautifulSoup(self.driver.page_source, 'html.parser')\n",
    "        # ищем все ячейки страницы с требуемыми данными, если их нет возвращаем пустой массив\n",
    "        divs = soup.find('div', attrs={'class':'grid sm:grid-cols-2 lg:grid-cols-3 gap-5 sm:gap-10'}).find_all('a', attrs={'class':'event-list-item'})\\\n",
    "            if soup.find('div', attrs={'class':'grid sm:grid-cols-2 lg:grid-cols-3 gap-5 sm:gap-10'}).find('a', attrs={'class':'event-list-item'}) else []\n",
    "        return divs\n",
    "\n",
    "    # функция добавления данных со всей страницы в итоговый фрейм ссылок событий\n",
    "    def events_page_parser(self, divs):\n",
    "        df_events_url = pd.DataFrame({'event_name':[], 'page_url':[]})\n",
    "        if len(divs) > 0:\n",
    "            for div in divs:\n",
    "                line = {}\n",
    "                line['event_name'] = div.get('title') if div.get('title') else None\n",
    "                event_site = div.get('href') if div.get('href') else None\n",
    "                line['page_url'] = ('https://iticket.uz' + event_site) if event_site and event_site[0] == '/' else event_site\n",
    "                df_events_url.loc[len(df_events_url)] = line\n",
    "        return df_events_url\n",
    "\n",
    "    # функция проверки элементов на присутствие в блоке, в случае отсутствия добавляет пустое значение в случае присутствия очищает текст от лишних пробелов и табуляции \n",
    "    def cleaner(self, text_block):\n",
    "        text = re.sub(r'\\s+', ' ', text_block.text.replace('.', '. ').replace('\\n', ' ').replace('\\t', ' ')).strip() if text_block else None\n",
    "        return text\n",
    "\n",
    "    # функция проверки корректности URL\n",
    "    def check_url(self, url):\n",
    "        try:\n",
    "            # отправляет запрос для проверки статуса url, ответ 200 код существует\n",
    "            response = requests.head(url)\n",
    "            if response.status_code == 200:\n",
    "                return True\n",
    "            else:\n",
    "                return False\n",
    "        except requests.RequestException:\n",
    "            return False\n",
    "        \n",
    "    # функция сбора данных со страницы события\n",
    "    def page_parser(self, url):\n",
    "        page_data = {}\n",
    "        # проверяем URL на факт существования\n",
    "        if self.check_url(url):\n",
    "            page_data['url'] = url\n",
    "        else:\n",
    "            print('URL не существует')\n",
    "            return page_data\n",
    "        page_data['url'] = url\n",
    "        self.driver.get(url)\n",
    "        # параметры ожидания загрузки данных\n",
    "        wait = WebDriverWait(self.driver, self.upload_wait_time)\n",
    "        try:\n",
    "            # ожидание загрузки элемента это помогает минимизировать время парсинга не устанавливая фиксированные лимиты ожидания\n",
    "            wait.until(EC.visibility_of_element_located((By.XPATH, \"//div[@class='venue-detail']\")))\n",
    "            wait.until(EC.visibility_of_element_located((By.XPATH, \"//div[@id='event-detail']//div[@class='tab-body']\")))\n",
    "            wait.until(EC.visibility_of_element_located((By.XPATH, \"//div[@id='imap-parent']//div[@class='accordions']//div[@class='info']\")))\n",
    "        except TimeoutException:\n",
    "            print(\"Элемент не был найден в указанное время. Продолжаем выполнение кода.\")\n",
    "        # Небольшая задержка, чтобы избежать недозагруженных данных\n",
    "        time.sleep(self.sleep_time)\n",
    "        # передаем содержимое вебдрайвера после загрузки контента из селениума в бьютифул суп для парсинга страницы\n",
    "        soup = BeautifulSoup(self.driver.page_source, 'html.parser')\n",
    "        if soup.find('div', attrs={'id':'tab-0'}):\n",
    "            page_data['description'] = self.cleaner(soup.find('div', attrs={'id':'tab-0'}).find('div', attrs={'class':'tab-content'}))\n",
    "        else:\n",
    "            page_data['description'] = None\n",
    "        if soup.find('div', attrs={'id':'tab-1'}):\n",
    "            page_data['age_languages'] = self.cleaner(soup.find('div', attrs={'id':'tab-1'}).find('div', attrs={'class':'tab-content'}))\n",
    "        else:\n",
    "            page_data['age_languages'] = None\n",
    "        # забираем данные мест проведения со страницы\n",
    "        if soup.find('div', attrs={'class':'venue-detail'}):\n",
    "            places = soup.find('div', attrs={'class':'venue-detail'}).find_all('div', attrs={'class':'my-10 grid grid-cols-1 lg:grid-cols-12 gap-10'}) \\\n",
    "            if soup.find('div', attrs={'class':'venue-detail'}).find_all('div', attrs={'class':'my-10 grid grid-cols-1 lg:grid-cols-12 gap-10'}) else []\n",
    "        else:\n",
    "            places = []\n",
    "        page_places = []\n",
    "        for place in places:\n",
    "            page_place = {}\n",
    "            page_place['coordinates'] = place.find('div', attrs={'class':'flex-1 map'}).find('iframe', src=True).get('src').split('=')[1].split('&')[0].split(',') \\\n",
    "                if place.find('div', attrs={'class':'flex-1 map'}).find('iframe', src=True) else None\n",
    "            page_place['place'] = self.cleaner(place.find('div', attrs={'class':'venue-name'}))\n",
    "            page_place['address'] = self.cleaner(place.find('div', attrs={'class':'venue-address'}))\n",
    "            # забираем данные блока номеров из ячейки в массив\n",
    "            phones = place.find_all('div', attrs={'class':'venue-phones'}) if place.find('div', attrs={'class':'venue-phones'}) else []\n",
    "            # убираем пробелы табуляцию и лишнюю пунктуацию из массива оставляя только цифры и преобразуем в числовой тип данных\n",
    "            page_place['phone_array'] = [int(re.sub('[^0-9]', '', phone.get_text(strip=True))) for phone in phones]\n",
    "            page_places.append(page_place)\n",
    "        page_data['places'] = page_places\n",
    "        # забираем данные событий со страницы\n",
    "        if soup.find('div', id='imap-parent'):\n",
    "            events = soup.find('div', id='imap-parent').find_all('div', attrs={'class':'info'}) if soup.find('div', id='imap-parent').find('div', attrs={'class':'info'}) else []\n",
    "        else:\n",
    "            events = []\n",
    "        page_events = []\n",
    "        for event in events:\n",
    "            page_event = {}\n",
    "            page_event['event_name'] = self.cleaner(event.find('div', attrs={'class':'sa-col-1'}).find('div', attrs={'class':'session-name'}))\n",
    "            page_event['event_place'] = self.cleaner(event.find('div', attrs={'class':'sa-col-1'}).find('div', attrs={'class':'accordion-label'}))\n",
    "            page_event['event_cost'] = self.cleaner(event.find('div', attrs={'class':'sa-col-3'}).find('div', attrs={'class':'value'}))\n",
    "            event_data = event.find('div', attrs={'class':'sa-col-2'}).find('div', attrs={'class':'value'})\n",
    "            page_event['event_data'] = re.sub(r'\\s+', ' ', event_data.text.replace('\\n', ' ').replace('\\t', ' ')).strip() if event_data else None\n",
    "            page_events.append(page_event)\n",
    "        page_data['events'] = page_events\n",
    "        return page_data\n",
    "\n",
    "    # функция обхода сылок фрейма событий и парсинг каждой страницы\n",
    "    def events_site_parser(self):\n",
    "        df = []\n",
    "        # вызов парсера страницы событий для формирования фрейма сылок событий\n",
    "        df_events_url = self.events_page_parser(self.clicker())\n",
    "        # обход фрейма сылок для прсинга \n",
    "        if len(df_events_url) > 0:\n",
    "            for event_url in df_events_url['page_url']:\n",
    "                display(event_url)\n",
    "                df.append(self.page_parser(event_url))\n",
    "        # закрываем браузер в селениум\n",
    "        self.driver.quit()\n",
    "        return pd.DataFrame(df)"
   ]
  },
  {
   "cell_type": "code",
   "execution_count": 4,
   "metadata": {},
   "outputs": [],
   "source": [
    "class DataConverter:\n",
    "    \n",
    "    # инициализатор\n",
    "    def __init__(self, input_df):\n",
    "        self.input_df = input_df\n",
    "\n",
    "    # функция для поиска словаря по ключу и значению\n",
    "    def find_dict(self, array, key, value):\n",
    "        for dictionary in array:\n",
    "            if dictionary.get(key) == value:\n",
    "                return dictionary\n",
    "        return None\n",
    "    \n",
    "    # функция удаления дубликатов и пустых массивов\n",
    "    def phone_cleaner(self, phone_array):\n",
    "        unique_phone_array = list(set(phone_array))\n",
    "        return unique_phone_array if (len(unique_phone_array) > 0) else None\n",
    "\n",
    "    # функция конвертации координат в числовой сортированный по возрастанию массив и удаления пустых массивов      \n",
    "    def coordinates_cleaner(self, coordinates_array):\n",
    "        try:\n",
    "            float_coordinates_array = [float(item) for item in coordinates_array]\n",
    "            sorted_coordinates = sorted(float_coordinates_array)\n",
    "            return sorted_coordinates\n",
    "        except ValueError:\n",
    "            return None\n",
    "\n",
    "    # функция очистки возраста\n",
    "    def age_cleaner(self, age_languages):\n",
    "        age = re.sub('[^0-9]', '', age_languages)\n",
    "        return int(age) if age else None\n",
    "    \n",
    "    # функция языка мероприятия\n",
    "    def language_cleaner(self, age_languages):\n",
    "        language = re.sub('[^а-яА-Яa-zA-Z]', '', age_languages)\n",
    "        return language if (language != '') else None\n",
    "    \n",
    "    # функция формирования категории\n",
    "    def category_cleaner(self, url):\n",
    "        cleaned_category = url.split('events/', maxsplit=1)[1].split('/', maxsplit=1)[0]\n",
    "        return cleaned_category\n",
    "    \n",
    "    # функция определения регулярности мероприятия критерий 30 дней, стартовой и финальной даты события\n",
    "    def regularity_event(self, data_text):\n",
    "        pattern_event = 'regularity_event'\n",
    "        if data_text:\n",
    "            split_data_text = re.sub(r'\\s+', ' ', (re.sub('[^0-9.:]', ' ', data_text))).strip().split(' ')\n",
    "            if len(split_data_text) > 1:\n",
    "                first_data = datetime.strptime((split_data_text[0] + ' ' + split_data_text[1]), '%d.%m.%Y %H:%M')\n",
    "                if len(split_data_text) == 3:\n",
    "                    second_data = datetime.strptime((split_data_text[0] + ' ' + split_data_text[2]), '%d.%m.%Y %H:%M')\n",
    "                elif len(split_data_text) == 4:\n",
    "                    second_data = datetime.strptime((split_data_text[2] + ' ' + split_data_text[3]), '%d.%m.%Y %H:%M')\n",
    "                if (second_data - first_data).days < 30:\n",
    "                    pattern_event = 'not_regularity_event'\n",
    "        return [pattern_event, first_data, second_data] if pattern_event == 'not_regularity_event' else [pattern_event, None, None]\n",
    "\n",
    "    # функция для преобразования спарсеных данных в интерпритируемый вид\n",
    "    def transformation(self):\n",
    "        output_df = []\n",
    "        for line in self.input_df.to_dict(orient='records'):    \n",
    "            if 'events' in line and line['events']:\n",
    "                for event in line['events']:\n",
    "                    place_info = self.find_dict(line['places'], 'place', event['event_place'])\n",
    "                    address = place_info['address'] if place_info else None\n",
    "                    coordinates = self.coordinates_cleaner(place_info['coordinates']) if place_info else None\n",
    "                    phone_array = self.phone_cleaner(place_info['phone_array']) if place_info else None\n",
    "                    new_line = {'url': line['url'], \n",
    "                                'category': self.category_cleaner(line['url']), \n",
    "                                'description': line['description'], \n",
    "                                'age': self.age_cleaner(line['age_languages']),\n",
    "                                'languages': self.language_cleaner(line['age_languages']),\n",
    "                                'event_name': event['event_name'], \n",
    "                                'place': event['event_place'], \n",
    "                                'cost': event['event_cost'], \n",
    "                                'data_text': event['event_data'],\n",
    "                                'pattern_event': self.regularity_event(event['event_data'])[0],\n",
    "                                'first_data': self.regularity_event(event['event_data'])[1],\n",
    "                                'second_data': self.regularity_event(event['event_data'])[2],\n",
    "                                'address': address,\n",
    "                                'coordinates': coordinates,\n",
    "                                'phone_array': phone_array\n",
    "                                }\n",
    "                    output_df.append(new_line)\n",
    "            else:\n",
    "                new_line = {'url': line['url'], \n",
    "                            'category': self.category_cleaner(line['url']),\n",
    "                            'description': line['description'], \n",
    "                            'age': self.age_cleaner(line['age_languages']),\n",
    "                            'languages': self.language_cleaner(line['age_languages']),\n",
    "                            'event_name': None, \n",
    "                            'place': line['places'][0]['place'] if line['places'] else None,\n",
    "                            'cost': None, \n",
    "                            'data_text': None,\n",
    "                            'pattern_event': self.regularity_event(event['event_data'])[0],\n",
    "                            'first_data': self.regularity_event(event['event_data'])[1],\n",
    "                            'second_data': self.regularity_event(event['event_data'])[2],\n",
    "                            'address': line['places'][0]['address'] if line['places'] else None,\n",
    "                            'coordinates': self.coordinates_cleaner(line['places'][0]['coordinates']) if line['places'] else None,\n",
    "                            'phone_array': self.phone_cleaner(line['places'][0]['phone_array']) if line['places'] else None\n",
    "                            }\n",
    "                output_df.append(new_line)\n",
    "        pd_output_df = pd.DataFrame(output_df)\n",
    "        pd_output_df['age'] = pd_output_df['age'].astype('Int64')        \n",
    "        return pd_output_df"
   ]
  },
  {
   "cell_type": "markdown",
   "metadata": {},
   "source": [
    "# Работа с парсером\n",
    "- Для запуска парсинга сайта [iticket.uz](https://iticket.uz/ru/events) требуется составить запрос с вызовом парсера ItikcetUzParser().events_site_parser() в данном случае парсер соберед нанные сайта с раздела \"Все события\". При объявлении класса можно задать ссылку из другой категории то парсер соберет данные только по этой категории ItikcetUzParser('https://iticket.uz/ru/events/cultural-events').events_site_parser(). Парсер выдает данные в формате Data Frame Pandas в формате \"как собрал.\"\n",
    "- Для конвертации даннх написан отдельный класс позволяющий преобразовывать фрейм в легко интерпретируемый Pandas Data Frame. Для вызова требуется составить запрос и при объявлении класса в переменную input_df передать фрейм парсера как в примере DataConverter(parsed_df).transformation().\n",
    "- Для удобства можно объеденить данные запросы в один запрос который сразу предоставит результирующий фрейм DataConverter(ItikcetUzParser().events_site_parser()).transformation().\n",
    "- Для сохранения результирующего фрейма в файл CSV требуется раскоментить строку кода cleared_df.to_csv(f\"Selenium_Soup_iticket_{datetime.now().strftime('%d%m%Y')}.csv\") которая сохранить данные в файл с наименованием \"Selenium_Soup_iticket_10072024.csv\" а папку с запускаемом кодом. Дата будет подставляться автоматически - текущая дата сохранения результата парсинга.\n",
    "# Важно\n",
    "- Парсер не соберает данные событий со страниц событий которые содержат активный элемет id=\"icalendar\" тк без выбора даты не формируется элемент class=\"accordions\" без чего парсинг страницы не имеет смысла. В случае необходимости парсинга такой страницы потребуется дописывть класс парсера с отдельной логикой обработки элемента календаря. На данный момент подобная необходимость отсутствует."
   ]
  },
  {
   "cell_type": "code",
   "execution_count": 5,
   "metadata": {},
   "outputs": [
    {
     "data": {
      "text/plain": [
       "'https://iticket.uz/ru/events/samarkand/sadriddin-ayni-house-museum'"
      ]
     },
     "metadata": {},
     "output_type": "display_data"
    },
    {
     "data": {
      "text/plain": [
       "'https://iticket.uz/ru/events/samarkand/house-museum-of-haji-abdulaziz-abdurasulov'"
      ]
     },
     "metadata": {},
     "output_type": "display_data"
    },
    {
     "data": {
      "text/plain": [
       "'https://iticket.uz/ru/events/samarkand/mahmudhoja-behbudi-house-museum'"
      ]
     },
     "metadata": {},
     "output_type": "display_data"
    },
    {
     "data": {
      "text/plain": [
       "'https://iticket.uz/ru/events/samarkand/rare-devonbegi-madrasah'"
      ]
     },
     "metadata": {},
     "output_type": "display_data"
    },
    {
     "data": {
      "text/plain": [
       "'https://iticket.uz/ru/events/samarkand/regional-museum-of-local-lore'"
      ]
     },
     "metadata": {},
     "output_type": "display_data"
    },
    {
     "data": {
      "text/plain": [
       "'https://iticket.uz/ru/events/samarkand/state-museum-of-the-history-of-culture-of-uzbekistan'"
      ]
     },
     "metadata": {},
     "output_type": "display_data"
    },
    {
     "data": {
      "text/plain": [
       "'https://iticket.uz/ru/events/samarkand/history-of-samarkand-city-afrosiab-museum'"
      ]
     },
     "metadata": {},
     "output_type": "display_data"
    },
    {
     "data": {
      "text/plain": [
       "'https://iticket.uz/ru/events/samarkand/mirzo-ulugbek-museum-complex'"
      ]
     },
     "metadata": {},
     "output_type": "display_data"
    },
    {
     "data": {
      "text/plain": [
       "'https://iticket.uz/ru/events/samarkand/bibikhanim-complex'"
      ]
     },
     "metadata": {},
     "output_type": "display_data"
    },
    {
     "data": {
      "text/plain": [
       "'https://iticket.uz/ru/events/samarkand/tomb-of-amir-temur'"
      ]
     },
     "metadata": {},
     "output_type": "display_data"
    },
    {
     "data": {
      "text/plain": [
       "'https://iticket.uz/ru/events/tashkent-city-park/tashkent-city-park2'"
      ]
     },
     "metadata": {},
     "output_type": "display_data"
    },
    {
     "data": {
      "text/plain": [
       "'https://iticket.uz/ru/events/samarkand/mausoleum-bibikhanim'"
      ]
     },
     "metadata": {},
     "output_type": "display_data"
    },
    {
     "data": {
      "text/plain": [
       "'https://iticket.uz/ru/events/concerts/ozbekistonning-oltin-plyaji'"
      ]
     },
     "metadata": {},
     "output_type": "display_data"
    },
    {
     "data": {
      "text/plain": [
       "'https://iticket.uz/ru/events/concerts/walk-around-tashkent-tashkent-speaks'"
      ]
     },
     "metadata": {},
     "output_type": "display_data"
    },
    {
     "name": "stdout",
     "output_type": "stream",
     "text": [
      "Элемент не был найден в указанное время. Продолжаем выполнение кода.\n"
     ]
    },
    {
     "data": {
      "text/plain": [
       "'https://iticket.kg/en/events/koncerty/festival/6'"
      ]
     },
     "metadata": {},
     "output_type": "display_data"
    },
    {
     "data": {
      "text/plain": [
       "'https://iticket.uz/ru/events/concerts/animal-dzhaz2024'"
      ]
     },
     "metadata": {},
     "output_type": "display_data"
    },
    {
     "data": {
      "text/plain": [
       "'https://iticket.uz/ru/events/theaters-tashkent/snow-white-lullabyy'"
      ]
     },
     "metadata": {},
     "output_type": "display_data"
    },
    {
     "data": {
      "text/plain": [
       "'https://iticket.uz/ru/events/concerts/neobyknovennye-muzykanty2023'"
      ]
     },
     "metadata": {},
     "output_type": "display_data"
    },
    {
     "data": {
      "text/plain": [
       "'https://iticket.uz/ru/events/theaters-tashkent/aladdin-and-his-magic-lamppp'"
      ]
     },
     "metadata": {},
     "output_type": "display_data"
    },
    {
     "data": {
      "text/plain": [
       "'https://iticket.uz/ru/events/theaters-tashkent/hans-and-gretel8965'"
      ]
     },
     "metadata": {},
     "output_type": "display_data"
    },
    {
     "data": {
      "text/plain": [
       "'https://iticket.uz/ru/events/concerts/saundtreki-detstva'"
      ]
     },
     "metadata": {},
     "output_type": "display_data"
    },
    {
     "data": {
      "text/plain": [
       "'https://iticket.uz/ru/events/theaters-tashkent/how-gingerbread-mind-gainedd'"
      ]
     },
     "metadata": {},
     "output_type": "display_data"
    },
    {
     "data": {
      "text/plain": [
       "'https://iticket.uz/ru/events/silk-route-marionettes/the-beauty-and-the-beast-to'"
      ]
     },
     "metadata": {},
     "output_type": "display_data"
    },
    {
     "data": {
      "text/plain": [
       "'https://iticket.uz/ru/events/concerts/soda-luv'"
      ]
     },
     "metadata": {},
     "output_type": "display_data"
    },
    {
     "data": {
      "text/plain": [
       "'https://iticket.uz/ru/events/concerts/tyga'"
      ]
     },
     "metadata": {},
     "output_type": "display_data"
    },
    {
     "data": {
      "text/plain": [
       "'https://iticket.uz/ru/events/concerts/bakr777'"
      ]
     },
     "metadata": {},
     "output_type": "display_data"
    },
    {
     "data": {
      "text/plain": [
       "'https://iticket.uz/ru/events/concerts/HANS-ZIMMER'"
      ]
     },
     "metadata": {},
     "output_type": "display_data"
    },
    {
     "data": {
      "text/plain": [
       "'https://iticket.uz/ru/events/concerts/rayhon-va-shohruhxon-viloyatlar-shou-konsertlari'"
      ]
     },
     "metadata": {},
     "output_type": "display_data"
    },
    {
     "data": {
      "text/plain": [
       "'https://iticket.uz/ru/events/concerts/machete'"
      ]
     },
     "metadata": {},
     "output_type": "display_data"
    },
    {
     "data": {
      "text/plain": [
       "'https://iticket.uz/ru/events/concerts/mirjalol-nematov'"
      ]
     },
     "metadata": {},
     "output_type": "display_data"
    },
    {
     "data": {
      "text/plain": [
       "'https://iticket.uz/ru/events/concerts/mahmut-orhan'"
      ]
     },
     "metadata": {},
     "output_type": "display_data"
    },
    {
     "data": {
      "text/plain": [
       "'https://iticket.uz/ru/events/concerts/lyube2024'"
      ]
     },
     "metadata": {},
     "output_type": "display_data"
    },
    {
     "data": {
      "text/plain": [
       "'https://iticket.uz/ru/events/concerts/open-season'"
      ]
     },
     "metadata": {},
     "output_type": "display_data"
    },
    {
     "data": {
      "text/plain": [
       "'https://iticket.uz/ru/events/concerts/pesni-anny-german2024'"
      ]
     },
     "metadata": {},
     "output_type": "display_data"
    },
    {
     "data": {
      "text/plain": [
       "'https://iticket.uz/ru/events/cultural-events/dyadya-vanya-rezhissyor-i-ispolnitel-glavnoj-roli-sergej-bezrukov'"
      ]
     },
     "metadata": {},
     "output_type": "display_data"
    },
    {
     "data": {
      "text/plain": [
       "'https://iticket.uz/ru/events/cultural-events/malenkij-princ-skazku-chitaet-sergej-bezrukov'"
      ]
     },
     "metadata": {},
     "output_type": "display_data"
    },
    {
     "data": {
      "text/plain": [
       "'https://iticket.uz/ru/events/concerts/valerij-meladze'"
      ]
     },
     "metadata": {},
     "output_type": "display_data"
    },
    {
     "data": {
      "text/plain": [
       "'https://iticket.uz/ru/events/concerts/hobbit-soundtracks'"
      ]
     },
     "metadata": {},
     "output_type": "display_data"
    },
    {
     "data": {
      "text/plain": [
       "'https://iticket.uz/ru/events/concerts/bravo072'"
      ]
     },
     "metadata": {},
     "output_type": "display_data"
    },
    {
     "data": {
      "text/plain": [
       "'https://iticket.uz/ru/events/concerts/thirty-seconds-to-mars'"
      ]
     },
     "metadata": {},
     "output_type": "display_data"
    },
    {
     "data": {
      "text/plain": [
       "'https://iticket.uz/ru/events/concerts/mot23'"
      ]
     },
     "metadata": {},
     "output_type": "display_data"
    },
    {
     "data": {
      "text/plain": [
       "'https://iticket.uz/ru/events/concerts/mezhdunarodnyj-kongress-pravo-i-sport'"
      ]
     },
     "metadata": {},
     "output_type": "display_data"
    },
    {
     "data": {
      "text/plain": [
       "'https://iticket.uz/ru/events/concerts/the-world-of-hans-zimmer24'"
      ]
     },
     "metadata": {},
     "output_type": "display_data"
    },
    {
     "data": {
      "text/plain": [
       "'https://iticket.uz/ru/events/concerts/uzeyir-mehdizade'"
      ]
     },
     "metadata": {},
     "output_type": "display_data"
    },
    {
     "data": {
      "text/plain": [
       "'https://iticket.uz/ru/events/concerts/master-i-margarita2024'"
      ]
     },
     "metadata": {},
     "output_type": "display_data"
    },
    {
     "data": {
      "text/plain": [
       "'https://iticket.uz/ru/events/concerts/shoxrux2024'"
      ]
     },
     "metadata": {},
     "output_type": "display_data"
    },
    {
     "data": {
      "text/plain": [
       "'https://iticket.uz/ru/events/concerts/kurtlar-vadisi'"
      ]
     },
     "metadata": {},
     "output_type": "display_data"
    },
    {
     "data": {
      "text/plain": [
       "'https://iticket.uz/ru/events/cultural-events/lang-lang'"
      ]
     },
     "metadata": {},
     "output_type": "display_data"
    },
    {
     "data": {
      "text/plain": [
       "'https://iticket.uz/ru/events/concerts/gagarina-navsegda'"
      ]
     },
     "metadata": {},
     "output_type": "display_data"
    },
    {
     "data": {
      "text/plain": [
       "'https://iticket.uz/ru/events/concerts/avatar-soundtracks'"
      ]
     },
     "metadata": {},
     "output_type": "display_data"
    },
    {
     "data": {
      "text/plain": [
       "'https://iticket.uz/ru/events/concerts/mirzabek-xolmedov-hamda-mirzo-teatr'"
      ]
     },
     "metadata": {},
     "output_type": "display_data"
    },
    {
     "data": {
      "text/plain": [
       "'https://iticket.uz/ru/events/concerts/frank-sinatra24'"
      ]
     },
     "metadata": {},
     "output_type": "display_data"
    },
    {
     "data": {
      "text/plain": [
       "'https://iticket.uz/ru/events/concerts/christmas-songs-5842'"
      ]
     },
     "metadata": {},
     "output_type": "display_data"
    },
    {
     "data": {
      "text/plain": [
       "'https://iticket.uz/ru/events/concerts/yulduz-usmanova2025'"
      ]
     },
     "metadata": {},
     "output_type": "display_data"
    }
   ],
   "source": [
    "parsed_df = ItikcetUzParser().events_site_parser()"
   ]
  },
  {
   "cell_type": "code",
   "execution_count": 6,
   "metadata": {},
   "outputs": [
    {
     "data": {
      "text/html": [
       "<div>\n",
       "<style scoped>\n",
       "    .dataframe tbody tr th:only-of-type {\n",
       "        vertical-align: middle;\n",
       "    }\n",
       "\n",
       "    .dataframe tbody tr th {\n",
       "        vertical-align: top;\n",
       "    }\n",
       "\n",
       "    .dataframe thead th {\n",
       "        text-align: right;\n",
       "    }\n",
       "</style>\n",
       "<table border=\"1\" class=\"dataframe\">\n",
       "  <thead>\n",
       "    <tr style=\"text-align: right;\">\n",
       "      <th></th>\n",
       "      <th>url</th>\n",
       "      <th>category</th>\n",
       "      <th>description</th>\n",
       "      <th>age</th>\n",
       "      <th>languages</th>\n",
       "      <th>event_name</th>\n",
       "      <th>place</th>\n",
       "      <th>cost</th>\n",
       "      <th>data_text</th>\n",
       "      <th>pattern_event</th>\n",
       "      <th>first_data</th>\n",
       "      <th>second_data</th>\n",
       "      <th>address</th>\n",
       "      <th>coordinates</th>\n",
       "      <th>phone_array</th>\n",
       "    </tr>\n",
       "  </thead>\n",
       "  <tbody>\n",
       "    <tr>\n",
       "      <th>0</th>\n",
       "      <td>https://iticket.uz/ru/events/samarkand/sadridd...</td>\n",
       "      <td>samarkand</td>\n",
       "      <td></td>\n",
       "      <td>&lt;NA&gt;</td>\n",
       "      <td>None</td>\n",
       "      <td>Дом-музей Садриддина Айни</td>\n",
       "      <td>Дом-музей Садриддина Айни</td>\n",
       "      <td>2 000 - 30 000 UZS</td>\n",
       "      <td>Ср 28.12.2022 09:00 - Вт 31.12.2024 17:00</td>\n",
       "      <td>regularity_event</td>\n",
       "      <td>NaT</td>\n",
       "      <td>NaT</td>\n",
       "      <td>Регистан улица, Samarkand, Узбекистан</td>\n",
       "      <td>[39.652637, 66.97255]</td>\n",
       "      <td>None</td>\n",
       "    </tr>\n",
       "    <tr>\n",
       "      <th>1</th>\n",
       "      <td>https://iticket.uz/ru/events/samarkand/house-m...</td>\n",
       "      <td>samarkand</td>\n",
       "      <td>Постановлением Кабинета министров Республики У...</td>\n",
       "      <td>&lt;NA&gt;</td>\n",
       "      <td>None</td>\n",
       "      <td>Дом-музей Хаджи Абдулазиза Абдурасулова</td>\n",
       "      <td>Дом-музей Хаджи Абдулазиза Абдурасулова</td>\n",
       "      <td>2 000 - 30 000 UZS</td>\n",
       "      <td>Ср 28.12.2022 09:00 - Вт 31.12.2024 17:00</td>\n",
       "      <td>regularity_event</td>\n",
       "      <td>NaT</td>\n",
       "      <td>NaT</td>\n",
       "      <td>Регистан улица, Samarkand, Узбекистан</td>\n",
       "      <td>[39.649915, 66.968302]</td>\n",
       "      <td>None</td>\n",
       "    </tr>\n",
       "    <tr>\n",
       "      <th>2</th>\n",
       "      <td>https://iticket.uz/ru/events/samarkand/mahmudh...</td>\n",
       "      <td>samarkand</td>\n",
       "      <td>Дом-музей махмудходжи бехбуди был создан 18 ок...</td>\n",
       "      <td>&lt;NA&gt;</td>\n",
       "      <td>None</td>\n",
       "      <td>Дом-музей махмудходжи Бехбуди</td>\n",
       "      <td>Дом-музей махмудходжи Бехбуди</td>\n",
       "      <td>2 000 - 30 000 UZS</td>\n",
       "      <td>Ср 28.12.2022 09:00 - Вт 31.12.2024 17:00</td>\n",
       "      <td>regularity_event</td>\n",
       "      <td>NaT</td>\n",
       "      <td>NaT</td>\n",
       "      <td></td>\n",
       "      <td>[39.651583, 66.933765]</td>\n",
       "      <td>None</td>\n",
       "    </tr>\n",
       "    <tr>\n",
       "      <th>3</th>\n",
       "      <td>https://iticket.uz/ru/events/samarkand/rare-de...</td>\n",
       "      <td>samarkand</td>\n",
       "      <td>Медресе Надир девонбеги было построено в 1630-...</td>\n",
       "      <td>&lt;NA&gt;</td>\n",
       "      <td>None</td>\n",
       "      <td>Медресе Надир девонбеги</td>\n",
       "      <td>Медресе Надир девонбеги</td>\n",
       "      <td>2 000 - 30 000 UZS</td>\n",
       "      <td>Ср 28.12.2022 09:00 - Вт 31.12.2024 17:00</td>\n",
       "      <td>regularity_event</td>\n",
       "      <td>NaT</td>\n",
       "      <td>NaT</td>\n",
       "      <td></td>\n",
       "      <td>[39.6191939, 66.9533669]</td>\n",
       "      <td>None</td>\n",
       "    </tr>\n",
       "    <tr>\n",
       "      <th>4</th>\n",
       "      <td>https://iticket.uz/ru/events/samarkand/regiona...</td>\n",
       "      <td>samarkand</td>\n",
       "      <td>Музей был открыт в декабре 1981 года на основе...</td>\n",
       "      <td>&lt;NA&gt;</td>\n",
       "      <td>None</td>\n",
       "      <td>Областной краеведческий музей</td>\n",
       "      <td>Областной краеведческий музей</td>\n",
       "      <td>2 000 - 30 000 UZS</td>\n",
       "      <td>Ср 28.12.2022 09:00 - Вт 31.12.2024 17:00</td>\n",
       "      <td>regularity_event</td>\n",
       "      <td>NaT</td>\n",
       "      <td>NaT</td>\n",
       "      <td>Абдурахман Жомий улица, Samarkand, Узбекистан</td>\n",
       "      <td>[39.6535351, 66.9538408]</td>\n",
       "      <td>None</td>\n",
       "    </tr>\n",
       "    <tr>\n",
       "      <th>5</th>\n",
       "      <td>https://iticket.uz/ru/events/samarkand/state-m...</td>\n",
       "      <td>samarkand</td>\n",
       "      <td>Сведения об основании музея в Самарканде с 187...</td>\n",
       "      <td>&lt;NA&gt;</td>\n",
       "      <td>None</td>\n",
       "      <td>Государственный музей истории культуры Узбекис...</td>\n",
       "      <td>Государственный музей истории культуры Узбекис...</td>\n",
       "      <td>2 000 - 30 000 UZS</td>\n",
       "      <td>Ср 28.12.2022 09:00 - Вт 31.12.2024 17:00</td>\n",
       "      <td>regularity_event</td>\n",
       "      <td>NaT</td>\n",
       "      <td>NaT</td>\n",
       "      <td>Самарканд, ул. Мирзо Улугбека, 148</td>\n",
       "      <td>[39.666927, 66.927639]</td>\n",
       "      <td>None</td>\n",
       "    </tr>\n",
       "    <tr>\n",
       "      <th>6</th>\n",
       "      <td>https://iticket.uz/ru/events/samarkand/history...</td>\n",
       "      <td>samarkand</td>\n",
       "      <td>В результате исследований, проведенных в течен...</td>\n",
       "      <td>&lt;NA&gt;</td>\n",
       "      <td>None</td>\n",
       "      <td>\"Афросиаб\" Музей истории города Самарканда</td>\n",
       "      <td>Афиябский Музей истории города Самарканда</td>\n",
       "      <td>2 000 - 30 000 UZS</td>\n",
       "      <td>Ср 28.12.2022 09:00 - Вт 31.12.2024 17:00</td>\n",
       "      <td>regularity_event</td>\n",
       "      <td>NaT</td>\n",
       "      <td>NaT</td>\n",
       "      <td>Тошкент йули, Самарканд, Узбекистан</td>\n",
       "      <td>[39.669249, 66.993541]</td>\n",
       "      <td>None</td>\n",
       "    </tr>\n",
       "    <tr>\n",
       "      <th>7</th>\n",
       "      <td>https://iticket.uz/ru/events/samarkand/mirzo-u...</td>\n",
       "      <td>samarkand</td>\n",
       "      <td>Обсерватория Мирзы Улугбека была построена в 1...</td>\n",
       "      <td>&lt;NA&gt;</td>\n",
       "      <td>None</td>\n",
       "      <td>Музей-комплекс Мирзо Улугбека</td>\n",
       "      <td>Музей-комплекс Мирзо Улугбека</td>\n",
       "      <td>2 000 - 30 000 UZS</td>\n",
       "      <td>Ср 28.12.2022 09:00 - Вт 31.12.2024 17:00</td>\n",
       "      <td>regularity_event</td>\n",
       "      <td>NaT</td>\n",
       "      <td>NaT</td>\n",
       "      <td>Тошкент йули, Самарканд, Узбекистан</td>\n",
       "      <td>[39.6752281, 67.0056371]</td>\n",
       "      <td>None</td>\n",
       "    </tr>\n",
       "    <tr>\n",
       "      <th>8</th>\n",
       "      <td>https://iticket.uz/ru/events/samarkand/bibikha...</td>\n",
       "      <td>samarkand</td>\n",
       "      <td>Комплекс бибихоним (мечеть Амира Темура джоме)...</td>\n",
       "      <td>&lt;NA&gt;</td>\n",
       "      <td>None</td>\n",
       "      <td>Комплекс Бибиханим</td>\n",
       "      <td>Комплекс бибиханим</td>\n",
       "      <td>2 000 - 30 000 UZS</td>\n",
       "      <td>Ср 28.12.2022 09:00 - Вт 31.12.2024 17:00</td>\n",
       "      <td>regularity_event</td>\n",
       "      <td>NaT</td>\n",
       "      <td>NaT</td>\n",
       "      <td>город Самарканд И. Улица Каримова</td>\n",
       "      <td>[39.660387, 66.982435]</td>\n",
       "      <td>None</td>\n",
       "    </tr>\n",
       "    <tr>\n",
       "      <th>9</th>\n",
       "      <td>https://iticket.uz/ru/events/samarkand/tomb-of...</td>\n",
       "      <td>samarkand</td>\n",
       "      <td>Мавзолей Амира Темура признан уникальным произ...</td>\n",
       "      <td>&lt;NA&gt;</td>\n",
       "      <td>Русский</td>\n",
       "      <td>Гур Эмир (Язык: Русский)</td>\n",
       "      <td>Гур Эмир</td>\n",
       "      <td>2 000 - 30 000 UZS</td>\n",
       "      <td>Вс 1.01.2023 09:00 - Вт 31.12.2024 17:00</td>\n",
       "      <td>regularity_event</td>\n",
       "      <td>NaT</td>\n",
       "      <td>NaT</td>\n",
       "      <td>1/4, Universitetskiy Boulevard Бўстонсарой кўч...</td>\n",
       "      <td>[39.6485611, 66.9692159]</td>\n",
       "      <td>None</td>\n",
       "    </tr>\n",
       "    <tr>\n",
       "      <th>10</th>\n",
       "      <td>https://iticket.uz/ru/events/tashkent-city-par...</td>\n",
       "      <td>tashkent-city-park</td>\n",
       "      <td></td>\n",
       "      <td>6</td>\n",
       "      <td>Русский</td>\n",
       "      <td>Музей Знаменитостей (Язык: Русский) (6+)</td>\n",
       "      <td>Tashkent City Planetarium</td>\n",
       "      <td>52 500 UZS</td>\n",
       "      <td>Вс 1.01.2023 10:00 - Вт 31.12.2024 22:00</td>\n",
       "      <td>regularity_event</td>\n",
       "      <td>NaT</td>\n",
       "      <td>NaT</td>\n",
       "      <td>Tashkent City Park, Шайхантаурский р-н</td>\n",
       "      <td>[41.317222, 69.24805556]</td>\n",
       "      <td>[998712052300]</td>\n",
       "    </tr>\n",
       "    <tr>\n",
       "      <th>11</th>\n",
       "      <td>https://iticket.uz/ru/events/tashkent-city-par...</td>\n",
       "      <td>tashkent-city-park</td>\n",
       "      <td></td>\n",
       "      <td>6</td>\n",
       "      <td>Русский</td>\n",
       "      <td>Планетариум (Язык: Русский) (6+)</td>\n",
       "      <td>Tashkent City Planetarium</td>\n",
       "      <td>73 500 UZS</td>\n",
       "      <td>Вс 1.01.2023 10:00 - Вт 31.12.2024 22:00</td>\n",
       "      <td>regularity_event</td>\n",
       "      <td>NaT</td>\n",
       "      <td>NaT</td>\n",
       "      <td>Tashkent City Park, Шайхантаурский р-н</td>\n",
       "      <td>[41.317222, 69.24805556]</td>\n",
       "      <td>[998712052300]</td>\n",
       "    </tr>\n",
       "    <tr>\n",
       "      <th>12</th>\n",
       "      <td>https://iticket.uz/ru/events/tashkent-city-par...</td>\n",
       "      <td>tashkent-city-park</td>\n",
       "      <td></td>\n",
       "      <td>6</td>\n",
       "      <td>Русский</td>\n",
       "      <td>Воздушный Театр (Язык: Русский) (6+)</td>\n",
       "      <td>Tashkent City Planetarium</td>\n",
       "      <td>94 500 UZS</td>\n",
       "      <td>Вс 1.01.2023 10:00 - Вт 31.12.2024 22:00</td>\n",
       "      <td>regularity_event</td>\n",
       "      <td>NaT</td>\n",
       "      <td>NaT</td>\n",
       "      <td>Tashkent City Park, Шайхантаурский р-н</td>\n",
       "      <td>[41.317222, 69.24805556]</td>\n",
       "      <td>[998712052300]</td>\n",
       "    </tr>\n",
       "    <tr>\n",
       "      <th>13</th>\n",
       "      <td>https://iticket.uz/ru/events/tashkent-city-par...</td>\n",
       "      <td>tashkent-city-park</td>\n",
       "      <td></td>\n",
       "      <td>6</td>\n",
       "      <td>Русский</td>\n",
       "      <td>Музей Знаменитостей + Планетариум + Воздушный ...</td>\n",
       "      <td>Tashkent City Planetarium</td>\n",
       "      <td>178 500 UZS</td>\n",
       "      <td>Вс 1.01.2023 10:00 - Вт 31.12.2024 17:00</td>\n",
       "      <td>regularity_event</td>\n",
       "      <td>NaT</td>\n",
       "      <td>NaT</td>\n",
       "      <td>Tashkent City Park, Шайхантаурский р-н</td>\n",
       "      <td>[41.317222, 69.24805556]</td>\n",
       "      <td>[998712052300]</td>\n",
       "    </tr>\n",
       "    <tr>\n",
       "      <th>14</th>\n",
       "      <td>https://iticket.uz/ru/events/tashkent-city-par...</td>\n",
       "      <td>tashkent-city-park</td>\n",
       "      <td></td>\n",
       "      <td>6</td>\n",
       "      <td>Русский</td>\n",
       "      <td>Планетариум + Воздушный театр (Язык: Русский) ...</td>\n",
       "      <td>Tashkent City Planetarium</td>\n",
       "      <td>147 000 UZS</td>\n",
       "      <td>Вс 1.01.2023 10:00 - Вт 31.12.2024 17:00</td>\n",
       "      <td>regularity_event</td>\n",
       "      <td>NaT</td>\n",
       "      <td>NaT</td>\n",
       "      <td>Tashkent City Park, Шайхантаурский р-н</td>\n",
       "      <td>[41.317222, 69.24805556]</td>\n",
       "      <td>[998712052300]</td>\n",
       "    </tr>\n",
       "    <tr>\n",
       "      <th>15</th>\n",
       "      <td>https://iticket.uz/ru/events/tashkent-city-par...</td>\n",
       "      <td>tashkent-city-park</td>\n",
       "      <td></td>\n",
       "      <td>6</td>\n",
       "      <td>Русский</td>\n",
       "      <td>Музей знаменитостей и планетариум (Язык: Русск...</td>\n",
       "      <td>Tashkent City Planetarium</td>\n",
       "      <td>105 000 UZS</td>\n",
       "      <td>Вс 1.01.2023 10:00 - Вт 31.12.2024 17:00</td>\n",
       "      <td>regularity_event</td>\n",
       "      <td>NaT</td>\n",
       "      <td>NaT</td>\n",
       "      <td>Tashkent City Park, Шайхантаурский р-н</td>\n",
       "      <td>[41.317222, 69.24805556]</td>\n",
       "      <td>[998712052300]</td>\n",
       "    </tr>\n",
       "    <tr>\n",
       "      <th>16</th>\n",
       "      <td>https://iticket.uz/ru/events/samarkand/mausole...</td>\n",
       "      <td>samarkand</td>\n",
       "      <td>На восточной стороне мечети Джаме Амира Темура...</td>\n",
       "      <td>&lt;NA&gt;</td>\n",
       "      <td>None</td>\n",
       "      <td>Мавзолей Бибиханим</td>\n",
       "      <td>Комплекс бибиханим</td>\n",
       "      <td>2 000 - 5 000 UZS</td>\n",
       "      <td>Ср 1.02.2023 09:00 - Вт 31.12.2024 17:00</td>\n",
       "      <td>regularity_event</td>\n",
       "      <td>NaT</td>\n",
       "      <td>NaT</td>\n",
       "      <td>город Самарканд И. Улица Каримова</td>\n",
       "      <td>[39.660387, 66.982435]</td>\n",
       "      <td>None</td>\n",
       "    </tr>\n",
       "    <tr>\n",
       "      <th>17</th>\n",
       "      <td>https://iticket.uz/ru/events/concerts/ozbekist...</td>\n",
       "      <td>concerts</td>\n",
       "      <td>Летняя жара только начинаетсяВ такие моменты н...</td>\n",
       "      <td>&lt;NA&gt;</td>\n",
       "      <td>None</td>\n",
       "      <td>Золотистые пляжи Узбекистана</td>\n",
       "      <td>Yangi O'zbekiston</td>\n",
       "      <td>45 000 - 120 000 UZS</td>\n",
       "      <td>Ср 10.07.2024 10:00 - 22:00</td>\n",
       "      <td>not_regularity_event</td>\n",
       "      <td>2024-07-10 10:00:00</td>\n",
       "      <td>2024-07-10 22:00:00</td>\n",
       "      <td></td>\n",
       "      <td>[41.327413, 69.44112]</td>\n",
       "      <td>[998772599991]</td>\n",
       "    </tr>\n",
       "    <tr>\n",
       "      <th>18</th>\n",
       "      <td>https://iticket.uz/ru/events/concerts/ozbekist...</td>\n",
       "      <td>concerts</td>\n",
       "      <td>Летняя жара только начинаетсяВ такие моменты н...</td>\n",
       "      <td>&lt;NA&gt;</td>\n",
       "      <td>None</td>\n",
       "      <td>Золотистые пляжи Узбекистана</td>\n",
       "      <td>Yangi O'zbekiston</td>\n",
       "      <td>45 000 - 120 000 UZS</td>\n",
       "      <td>Чт 11.07.2024 10:00 - 22:00</td>\n",
       "      <td>not_regularity_event</td>\n",
       "      <td>2024-07-11 10:00:00</td>\n",
       "      <td>2024-07-11 22:00:00</td>\n",
       "      <td></td>\n",
       "      <td>[41.327413, 69.44112]</td>\n",
       "      <td>[998772599991]</td>\n",
       "    </tr>\n",
       "    <tr>\n",
       "      <th>19</th>\n",
       "      <td>https://iticket.uz/ru/events/concerts/ozbekist...</td>\n",
       "      <td>concerts</td>\n",
       "      <td>Летняя жара только начинаетсяВ такие моменты н...</td>\n",
       "      <td>&lt;NA&gt;</td>\n",
       "      <td>None</td>\n",
       "      <td>Золотистые пляжи Узбекистана</td>\n",
       "      <td>Yangi O'zbekiston</td>\n",
       "      <td>45 000 - 120 000 UZS</td>\n",
       "      <td>Пт 12.07.2024 10:00 - 22:00</td>\n",
       "      <td>not_regularity_event</td>\n",
       "      <td>2024-07-12 10:00:00</td>\n",
       "      <td>2024-07-12 22:00:00</td>\n",
       "      <td></td>\n",
       "      <td>[41.327413, 69.44112]</td>\n",
       "      <td>[998772599991]</td>\n",
       "    </tr>\n",
       "  </tbody>\n",
       "</table>\n",
       "</div>"
      ],
      "text/plain": [
       "                                                  url            category  \\\n",
       "0   https://iticket.uz/ru/events/samarkand/sadridd...           samarkand   \n",
       "1   https://iticket.uz/ru/events/samarkand/house-m...           samarkand   \n",
       "2   https://iticket.uz/ru/events/samarkand/mahmudh...           samarkand   \n",
       "3   https://iticket.uz/ru/events/samarkand/rare-de...           samarkand   \n",
       "4   https://iticket.uz/ru/events/samarkand/regiona...           samarkand   \n",
       "5   https://iticket.uz/ru/events/samarkand/state-m...           samarkand   \n",
       "6   https://iticket.uz/ru/events/samarkand/history...           samarkand   \n",
       "7   https://iticket.uz/ru/events/samarkand/mirzo-u...           samarkand   \n",
       "8   https://iticket.uz/ru/events/samarkand/bibikha...           samarkand   \n",
       "9   https://iticket.uz/ru/events/samarkand/tomb-of...           samarkand   \n",
       "10  https://iticket.uz/ru/events/tashkent-city-par...  tashkent-city-park   \n",
       "11  https://iticket.uz/ru/events/tashkent-city-par...  tashkent-city-park   \n",
       "12  https://iticket.uz/ru/events/tashkent-city-par...  tashkent-city-park   \n",
       "13  https://iticket.uz/ru/events/tashkent-city-par...  tashkent-city-park   \n",
       "14  https://iticket.uz/ru/events/tashkent-city-par...  tashkent-city-park   \n",
       "15  https://iticket.uz/ru/events/tashkent-city-par...  tashkent-city-park   \n",
       "16  https://iticket.uz/ru/events/samarkand/mausole...           samarkand   \n",
       "17  https://iticket.uz/ru/events/concerts/ozbekist...            concerts   \n",
       "18  https://iticket.uz/ru/events/concerts/ozbekist...            concerts   \n",
       "19  https://iticket.uz/ru/events/concerts/ozbekist...            concerts   \n",
       "\n",
       "                                          description   age languages  \\\n",
       "0                                                      <NA>      None   \n",
       "1   Постановлением Кабинета министров Республики У...  <NA>      None   \n",
       "2   Дом-музей махмудходжи бехбуди был создан 18 ок...  <NA>      None   \n",
       "3   Медресе Надир девонбеги было построено в 1630-...  <NA>      None   \n",
       "4   Музей был открыт в декабре 1981 года на основе...  <NA>      None   \n",
       "5   Сведения об основании музея в Самарканде с 187...  <NA>      None   \n",
       "6   В результате исследований, проведенных в течен...  <NA>      None   \n",
       "7   Обсерватория Мирзы Улугбека была построена в 1...  <NA>      None   \n",
       "8   Комплекс бибихоним (мечеть Амира Темура джоме)...  <NA>      None   \n",
       "9   Мавзолей Амира Темура признан уникальным произ...  <NA>   Русский   \n",
       "10                                                        6   Русский   \n",
       "11                                                        6   Русский   \n",
       "12                                                        6   Русский   \n",
       "13                                                        6   Русский   \n",
       "14                                                        6   Русский   \n",
       "15                                                        6   Русский   \n",
       "16  На восточной стороне мечети Джаме Амира Темура...  <NA>      None   \n",
       "17  Летняя жара только начинаетсяВ такие моменты н...  <NA>      None   \n",
       "18  Летняя жара только начинаетсяВ такие моменты н...  <NA>      None   \n",
       "19  Летняя жара только начинаетсяВ такие моменты н...  <NA>      None   \n",
       "\n",
       "                                           event_name  \\\n",
       "0                           Дом-музей Садриддина Айни   \n",
       "1             Дом-музей Хаджи Абдулазиза Абдурасулова   \n",
       "2                       Дом-музей махмудходжи Бехбуди   \n",
       "3                             Медресе Надир девонбеги   \n",
       "4                       Областной краеведческий музей   \n",
       "5   Государственный музей истории культуры Узбекис...   \n",
       "6          \"Афросиаб\" Музей истории города Самарканда   \n",
       "7                       Музей-комплекс Мирзо Улугбека   \n",
       "8                                  Комплекс Бибиханим   \n",
       "9                            Гур Эмир (Язык: Русский)   \n",
       "10           Музей Знаменитостей (Язык: Русский) (6+)   \n",
       "11                   Планетариум (Язык: Русский) (6+)   \n",
       "12               Воздушный Театр (Язык: Русский) (6+)   \n",
       "13  Музей Знаменитостей + Планетариум + Воздушный ...   \n",
       "14  Планетариум + Воздушный театр (Язык: Русский) ...   \n",
       "15  Музей знаменитостей и планетариум (Язык: Русск...   \n",
       "16                                 Мавзолей Бибиханим   \n",
       "17                       Золотистые пляжи Узбекистана   \n",
       "18                       Золотистые пляжи Узбекистана   \n",
       "19                       Золотистые пляжи Узбекистана   \n",
       "\n",
       "                                                place                  cost  \\\n",
       "0                           Дом-музей Садриддина Айни    2 000 - 30 000 UZS   \n",
       "1             Дом-музей Хаджи Абдулазиза Абдурасулова    2 000 - 30 000 UZS   \n",
       "2                       Дом-музей махмудходжи Бехбуди    2 000 - 30 000 UZS   \n",
       "3                             Медресе Надир девонбеги    2 000 - 30 000 UZS   \n",
       "4                       Областной краеведческий музей    2 000 - 30 000 UZS   \n",
       "5   Государственный музей истории культуры Узбекис...    2 000 - 30 000 UZS   \n",
       "6           Афиябский Музей истории города Самарканда    2 000 - 30 000 UZS   \n",
       "7                       Музей-комплекс Мирзо Улугбека    2 000 - 30 000 UZS   \n",
       "8                                  Комплекс бибиханим    2 000 - 30 000 UZS   \n",
       "9                                            Гур Эмир    2 000 - 30 000 UZS   \n",
       "10                          Tashkent City Planetarium            52 500 UZS   \n",
       "11                          Tashkent City Planetarium            73 500 UZS   \n",
       "12                          Tashkent City Planetarium            94 500 UZS   \n",
       "13                          Tashkent City Planetarium           178 500 UZS   \n",
       "14                          Tashkent City Planetarium           147 000 UZS   \n",
       "15                          Tashkent City Planetarium           105 000 UZS   \n",
       "16                                 Комплекс бибиханим     2 000 - 5 000 UZS   \n",
       "17                                  Yangi O'zbekiston  45 000 - 120 000 UZS   \n",
       "18                                  Yangi O'zbekiston  45 000 - 120 000 UZS   \n",
       "19                                  Yangi O'zbekiston  45 000 - 120 000 UZS   \n",
       "\n",
       "                                    data_text         pattern_event  \\\n",
       "0   Ср 28.12.2022 09:00 - Вт 31.12.2024 17:00      regularity_event   \n",
       "1   Ср 28.12.2022 09:00 - Вт 31.12.2024 17:00      regularity_event   \n",
       "2   Ср 28.12.2022 09:00 - Вт 31.12.2024 17:00      regularity_event   \n",
       "3   Ср 28.12.2022 09:00 - Вт 31.12.2024 17:00      regularity_event   \n",
       "4   Ср 28.12.2022 09:00 - Вт 31.12.2024 17:00      regularity_event   \n",
       "5   Ср 28.12.2022 09:00 - Вт 31.12.2024 17:00      regularity_event   \n",
       "6   Ср 28.12.2022 09:00 - Вт 31.12.2024 17:00      regularity_event   \n",
       "7   Ср 28.12.2022 09:00 - Вт 31.12.2024 17:00      regularity_event   \n",
       "8   Ср 28.12.2022 09:00 - Вт 31.12.2024 17:00      regularity_event   \n",
       "9    Вс 1.01.2023 09:00 - Вт 31.12.2024 17:00      regularity_event   \n",
       "10   Вс 1.01.2023 10:00 - Вт 31.12.2024 22:00      regularity_event   \n",
       "11   Вс 1.01.2023 10:00 - Вт 31.12.2024 22:00      regularity_event   \n",
       "12   Вс 1.01.2023 10:00 - Вт 31.12.2024 22:00      regularity_event   \n",
       "13   Вс 1.01.2023 10:00 - Вт 31.12.2024 17:00      regularity_event   \n",
       "14   Вс 1.01.2023 10:00 - Вт 31.12.2024 17:00      regularity_event   \n",
       "15   Вс 1.01.2023 10:00 - Вт 31.12.2024 17:00      regularity_event   \n",
       "16   Ср 1.02.2023 09:00 - Вт 31.12.2024 17:00      regularity_event   \n",
       "17                Ср 10.07.2024 10:00 - 22:00  not_regularity_event   \n",
       "18                Чт 11.07.2024 10:00 - 22:00  not_regularity_event   \n",
       "19                Пт 12.07.2024 10:00 - 22:00  not_regularity_event   \n",
       "\n",
       "            first_data         second_data  \\\n",
       "0                  NaT                 NaT   \n",
       "1                  NaT                 NaT   \n",
       "2                  NaT                 NaT   \n",
       "3                  NaT                 NaT   \n",
       "4                  NaT                 NaT   \n",
       "5                  NaT                 NaT   \n",
       "6                  NaT                 NaT   \n",
       "7                  NaT                 NaT   \n",
       "8                  NaT                 NaT   \n",
       "9                  NaT                 NaT   \n",
       "10                 NaT                 NaT   \n",
       "11                 NaT                 NaT   \n",
       "12                 NaT                 NaT   \n",
       "13                 NaT                 NaT   \n",
       "14                 NaT                 NaT   \n",
       "15                 NaT                 NaT   \n",
       "16                 NaT                 NaT   \n",
       "17 2024-07-10 10:00:00 2024-07-10 22:00:00   \n",
       "18 2024-07-11 10:00:00 2024-07-11 22:00:00   \n",
       "19 2024-07-12 10:00:00 2024-07-12 22:00:00   \n",
       "\n",
       "                                              address  \\\n",
       "0               Регистан улица, Samarkand, Узбекистан   \n",
       "1               Регистан улица, Samarkand, Узбекистан   \n",
       "2                                                       \n",
       "3                                                       \n",
       "4       Абдурахман Жомий улица, Samarkand, Узбекистан   \n",
       "5                  Самарканд, ул. Мирзо Улугбека, 148   \n",
       "6                 Тошкент йули, Самарканд, Узбекистан   \n",
       "7                 Тошкент йули, Самарканд, Узбекистан   \n",
       "8                   город Самарканд И. Улица Каримова   \n",
       "9   1/4, Universitetskiy Boulevard Бўстонсарой кўч...   \n",
       "10             Tashkent City Park, Шайхантаурский р-н   \n",
       "11             Tashkent City Park, Шайхантаурский р-н   \n",
       "12             Tashkent City Park, Шайхантаурский р-н   \n",
       "13             Tashkent City Park, Шайхантаурский р-н   \n",
       "14             Tashkent City Park, Шайхантаурский р-н   \n",
       "15             Tashkent City Park, Шайхантаурский р-н   \n",
       "16                  город Самарканд И. Улица Каримова   \n",
       "17                                                      \n",
       "18                                                      \n",
       "19                                                      \n",
       "\n",
       "                 coordinates     phone_array  \n",
       "0      [39.652637, 66.97255]            None  \n",
       "1     [39.649915, 66.968302]            None  \n",
       "2     [39.651583, 66.933765]            None  \n",
       "3   [39.6191939, 66.9533669]            None  \n",
       "4   [39.6535351, 66.9538408]            None  \n",
       "5     [39.666927, 66.927639]            None  \n",
       "6     [39.669249, 66.993541]            None  \n",
       "7   [39.6752281, 67.0056371]            None  \n",
       "8     [39.660387, 66.982435]            None  \n",
       "9   [39.6485611, 66.9692159]            None  \n",
       "10  [41.317222, 69.24805556]  [998712052300]  \n",
       "11  [41.317222, 69.24805556]  [998712052300]  \n",
       "12  [41.317222, 69.24805556]  [998712052300]  \n",
       "13  [41.317222, 69.24805556]  [998712052300]  \n",
       "14  [41.317222, 69.24805556]  [998712052300]  \n",
       "15  [41.317222, 69.24805556]  [998712052300]  \n",
       "16    [39.660387, 66.982435]            None  \n",
       "17     [41.327413, 69.44112]  [998772599991]  \n",
       "18     [41.327413, 69.44112]  [998772599991]  \n",
       "19     [41.327413, 69.44112]  [998772599991]  "
      ]
     },
     "metadata": {},
     "output_type": "display_data"
    }
   ],
   "source": [
    "cleared_df = DataConverter(parsed_df).transformation()\n",
    "display(cleared_df.head(20))\n",
    "#cleared_df.to_csv(f\"Selenium_Soup_iticket_{datetime.now().strftime('%d%m%Y')}.csv\")"
   ]
  }
 ],
 "metadata": {
  "kernelspec": {
   "display_name": "Python 3",
   "language": "python",
   "name": "python3"
  },
  "language_info": {
   "codemirror_mode": {
    "name": "ipython",
    "version": 3
   },
   "file_extension": ".py",
   "mimetype": "text/x-python",
   "name": "python",
   "nbconvert_exporter": "python",
   "pygments_lexer": "ipython3",
   "version": "3.11.5"
  }
 },
 "nbformat": 4,
 "nbformat_minor": 2
}
